{
 "metadata": {
  "language_info": {
   "codemirror_mode": {
    "name": "ipython",
    "version": 3
   },
   "file_extension": ".py",
   "mimetype": "text/x-python",
   "name": "python",
   "nbconvert_exporter": "python",
   "pygments_lexer": "ipython3",
   "version": "3.7.4"
  },
  "orig_nbformat": 2,
  "kernelspec": {
   "name": "python374jvsc74a57bd0d03c9e3e98b97925c2785800271082bef983aace425e290dda3e8c2c9280957e",
   "display_name": "Python 3.7.4 64-bit ('base': conda)"
  }
 },
 "nbformat": 4,
 "nbformat_minor": 2,
 "cells": [
  {
   "source": [
    "# Evaluating the Deep Neural Network Model for Food ordering smart assistant."
   ],
   "cell_type": "markdown",
   "metadata": {}
  },
  {
   "source": [
    "### Importing the libraries"
   ],
   "cell_type": "markdown",
   "metadata": {}
  },
  {
   "cell_type": "code",
   "execution_count": 1,
   "metadata": {},
   "outputs": [
    {
     "output_type": "stream",
     "name": "stdout",
     "text": [
      "WARNING:tensorflow:From C:\\Users\\Mohil\\Anaconda3\\lib\\site-packages\\tensorflow\\python\\compat\\v2_compat.py:96: disable_resource_variables (from tensorflow.python.ops.variable_scope) is deprecated and will be removed in a future version.\n",
      "Instructions for updating:\n",
      "non-resource variables are not supported in the long term\n",
      "curses is not supported on this machine (please install/reinstall curses for an optimal experience)\n"
     ]
    }
   ],
   "source": [
    "import nltk\n",
    "import numpy\n",
    "import tflearn \n",
    "import tensorflow\n",
    "import json\n",
    "import pickle\n",
    "\n",
    "from tensorflow.python.framework import ops\n",
    "from sklearn.model_selection import train_test_split\n",
    "from sklearn.model_selection import KFold\n",
    "from nltk.stem import WordNetLemmatizer\n",
    "lemmatizer = WordNetLemmatizer()\n"
   ]
  },
  {
   "source": [
    "### Importing the dataset"
   ],
   "cell_type": "markdown",
   "metadata": {}
  },
  {
   "cell_type": "code",
   "execution_count": 2,
   "metadata": {},
   "outputs": [],
   "source": [
    "with open('data.json') as file:\n",
    "    data = json.load(file)\n",
    "    "
   ]
  },
  {
   "source": [
    "### Function to save an object using file"
   ],
   "cell_type": "markdown",
   "metadata": {}
  },
  {
   "cell_type": "code",
   "execution_count": 3,
   "metadata": {},
   "outputs": [],
   "source": [
    "def save(dObj, sFilename):\n",
    "      '''Given an object and a file name, write the object to the file using pickle.'''\n",
    "\n",
    "      f = open(sFilename, \"wb\")\n",
    "      p = pickle.Pickler(f)\n",
    "      p.dump(dObj)\n",
    "      f.close()\n"
   ]
  },
  {
   "source": [
    "### Function to Preprocess text "
   ],
   "cell_type": "markdown",
   "metadata": {}
  },
  {
   "cell_type": "code",
   "execution_count": 4,
   "metadata": {},
   "outputs": [],
   "source": [
    "def preprocess(text):\n",
    "    ''' Accepts text as a parameter and performs the following preprocessing: 1. Tokenization\n",
    "    2. Lemmatization 3. Convert words to lower case. Returns preprocessed tokens as output.\n",
    "    Stop words and punctuations provide valuable context and hence are not preprocessed.'''\n",
    "\n",
    "    tokens = []\n",
    "    words = nltk.word_tokenize(text)\n",
    "\n",
    "    for word in words:\n",
    "        tokens.append(lemmatizer.lemmatize(word.lower()))\n",
    "\n",
    "    return tokens\n",
    "    "
   ]
  },
  {
   "source": [
    "### Preprocess the data"
   ],
   "cell_type": "markdown",
   "metadata": {}
  },
  {
   "cell_type": "code",
   "execution_count": 5,
   "metadata": {},
   "outputs": [],
   "source": [
    "tokens = set()\n",
    "labels = set()\n",
    "\n",
    "document_x = []\n",
    "document_y = []\n",
    "\n",
    "for intent in data['intents']:\n",
    "    for question in intent['questions']:\n",
    "        words = preprocess(question)\n",
    "        tokens.update(words)\n",
    "        document_x.append(words)\n",
    "        document_y.append(intent[\"label\"]) \n",
    "        labels.add(intent['label'])\n"
   ]
  },
  {
   "source": [
    "### Using One-Hot Encoding to create bag of words"
   ],
   "cell_type": "markdown",
   "metadata": {}
  },
  {
   "cell_type": "code",
   "execution_count": 6,
   "metadata": {},
   "outputs": [],
   "source": [
    "X = []\n",
    "y = []\n",
    "\n",
    "tokens = list(tokens)\n",
    "labels = list(labels)\n",
    "\n",
    "class_zeros = [0 for _ in range(len(labels))]\n",
    "\n",
    "for i, document in enumerate(document_x):\n",
    "    bag = []\n",
    "    class_row = class_zeros[:]\n",
    "\n",
    "    for token in tokens:\n",
    "        if token in document:\n",
    "            bag.append(1)\n",
    "        else:\n",
    "            bag.append(0)\n",
    "\n",
    "    \n",
    "    class_row[labels.index(document_y[i])] = 1\n",
    "    X.append(bag)\n",
    "    y.append(class_row)\n"
   ]
  },
  {
   "source": [
    "### Defining the DNN with 2 hidden layers with each having 8 fully connected neurons and a output layer with softmax activation function"
   ],
   "cell_type": "markdown",
   "metadata": {}
  },
  {
   "cell_type": "code",
   "execution_count": 7,
   "metadata": {},
   "outputs": [
    {
     "output_type": "stream",
     "name": "stdout",
     "text": [
      "WARNING:tensorflow:From C:\\Users\\Mohil\\Anaconda3\\lib\\site-packages\\tflearn\\initializations.py:165: calling TruncatedNormal.__init__ (from tensorflow.python.ops.init_ops) with dtype is deprecated and will be removed in a future version.\nInstructions for updating:\nCall initializer instance with the dtype argument instead of passing it to the constructor\n"
     ]
    }
   ],
   "source": [
    "ops.reset_default_graph()\n",
    "\n",
    "net = tflearn.layers.core.input_data(shape=[None, len(X[0])])\n",
    "net = tflearn.layers.core.fully_connected(net, 8)\n",
    "net = tflearn.layers.core.fully_connected(net, 8)\n",
    "net = tflearn.layers.core.fully_connected(net, len(y[0]), activation=\"softmax\")\n",
    "net = tflearn.layers.estimator.regression(net)\n",
    "\n",
    "model = tflearn.DNN(net)\n"
   ]
  },
  {
   "source": [
    "### Evaluating the model using training and testing set (80% training and 20% testing split)"
   ],
   "cell_type": "markdown",
   "metadata": {}
  },
  {
   "cell_type": "code",
   "execution_count": 8,
   "metadata": {},
   "outputs": [
    {
     "output_type": "stream",
     "name": "stdout",
     "text": [
      "Training Step: 12999  | total loss: \u001b[1m\u001b[32m0.12462\u001b[0m\u001b[0m | time: 0.031s\n",
      "| Adam | epoch: 1000 | loss: 0.12462 - acc: 0.9934 -- iter: 096/101\n",
      "Training Step: 13000  | total loss: \u001b[1m\u001b[32m0.11216\u001b[0m\u001b[0m | time: 0.034s\n",
      "| Adam | epoch: 1000 | loss: 0.11216 - acc: 0.9941 -- iter: 101/101\n",
      "--\n",
      "Test accuracy: 84.6154%\n"
     ]
    }
   ],
   "source": [
    "X_train, X_test, y_train, y_test = train_test_split(X, y, test_size=0.2)\n",
    "\n",
    "X_train = numpy.array(X_train)\n",
    "y_train = numpy.array(y_train)\n",
    "\n",
    "model.fit(X_train, y_train, n_epoch=1000, batch_size=8, show_metric=True)\n",
    "\n",
    "X_test = numpy.array(X_test)\n",
    "y_test = numpy.array(y_test)\n",
    "\n",
    "score = model.evaluate(X_test, y_test)\n",
    "print('Test accuracy: %0.4f%%' % (score[0] * 100))\n"
   ]
  }
 ]
}